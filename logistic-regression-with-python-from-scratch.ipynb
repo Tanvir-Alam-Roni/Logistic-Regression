{
 "cells": [
  {
   "cell_type": "markdown",
   "id": "premium-newark",
   "metadata": {
    "papermill": {
     "duration": 0.015709,
     "end_time": "2021-09-09T14:32:11.951535",
     "exception": false,
     "start_time": "2021-09-09T14:32:11.935826",
     "status": "completed"
    },
    "tags": []
   },
   "source": [
    "# Tutorial: Logistic Regression With Python From Scratch"
   ]
  },
  {
   "cell_type": "markdown",
   "id": "introductory-selling",
   "metadata": {
    "papermill": {
     "duration": 0.013411,
     "end_time": "2021-09-09T14:32:11.978779",
     "exception": false,
     "start_time": "2021-09-09T14:32:11.965368",
     "status": "completed"
    },
    "tags": []
   },
   "source": [
    "In this notebook, I've implemented end-to-end binary classification using logistic regression. Here, from scratch, we've written all the required functions like:\n",
    "\n",
    "* sigmoid()\n",
    "* cost()\n",
    "* hyp()\n",
    "* optim()\n",
    "* pred()\n",
    "\n",
    "Here, our goal is not to obtain a high accuracy, rather we'll just implement the cost and optimizer function and see if they works. We've used the pima indiian diabetes datat.\n",
    "\n",
    "***Give an upvote, if you find the notebook helpful***"
   ]
  },
  {
   "cell_type": "markdown",
   "id": "instrumental-insulation",
   "metadata": {
    "papermill": {
     "duration": 0.013685,
     "end_time": "2021-09-09T14:32:12.006329",
     "exception": false,
     "start_time": "2021-09-09T14:32:11.992644",
     "status": "completed"
    },
    "tags": []
   },
   "source": [
    "# Importing Required Libraries"
   ]
  },
  {
   "cell_type": "code",
   "execution_count": 1,
   "id": "increased-nancy",
   "metadata": {
    "execution": {
     "iopub.execute_input": "2021-09-09T14:32:12.047595Z",
     "iopub.status.busy": "2021-09-09T14:32:12.046963Z",
     "iopub.status.idle": "2021-09-09T14:32:13.081252Z",
     "shell.execute_reply": "2021-09-09T14:32:13.081780Z",
     "shell.execute_reply.started": "2021-09-06T16:50:21.032511Z"
    },
    "papermill": {
     "duration": 1.061822,
     "end_time": "2021-09-09T14:32:13.082062",
     "exception": false,
     "start_time": "2021-09-09T14:32:12.020240",
     "status": "completed"
    },
    "tags": []
   },
   "outputs": [],
   "source": [
    "import numpy as np\n",
    "import pandas as pd\n",
    "import matplotlib.pyplot as plt\n",
    "%matplotlib inline\n",
    "import seaborn as sns\n",
    "from sklearn.model_selection import train_test_split\n",
    "from sklearn.metrics import accuracy_score"
   ]
  },
  {
   "cell_type": "markdown",
   "id": "suitable-crawford",
   "metadata": {
    "papermill": {
     "duration": 0.014068,
     "end_time": "2021-09-09T14:32:13.110188",
     "exception": false,
     "start_time": "2021-09-09T14:32:13.096120",
     "status": "completed"
    },
    "tags": []
   },
   "source": [
    "# Data Collection"
   ]
  },
  {
   "cell_type": "code",
   "execution_count": 2,
   "id": "national-battery",
   "metadata": {
    "execution": {
     "iopub.execute_input": "2021-09-09T14:32:13.140714Z",
     "iopub.status.busy": "2021-09-09T14:32:13.140035Z",
     "iopub.status.idle": "2021-09-09T14:32:13.189369Z",
     "shell.execute_reply": "2021-09-09T14:32:13.188766Z",
     "shell.execute_reply.started": "2021-09-06T15:18:35.243044Z"
    },
    "papermill": {
     "duration": 0.065509,
     "end_time": "2021-09-09T14:32:13.189537",
     "exception": false,
     "start_time": "2021-09-09T14:32:13.124028",
     "status": "completed"
    },
    "tags": []
   },
   "outputs": [
    {
     "name": "stdout",
     "output_type": "stream",
     "text": [
      "Shape of the dataset: (768, 9)\n",
      "\n",
      " \n",
      "The first few rows of the dataset: \n"
     ]
    },
    {
     "data": {
      "text/html": [
       "<div>\n",
       "<style scoped>\n",
       "    .dataframe tbody tr th:only-of-type {\n",
       "        vertical-align: middle;\n",
       "    }\n",
       "\n",
       "    .dataframe tbody tr th {\n",
       "        vertical-align: top;\n",
       "    }\n",
       "\n",
       "    .dataframe thead th {\n",
       "        text-align: right;\n",
       "    }\n",
       "</style>\n",
       "<table border=\"1\" class=\"dataframe\">\n",
       "  <thead>\n",
       "    <tr style=\"text-align: right;\">\n",
       "      <th></th>\n",
       "      <th>Pregnancies</th>\n",
       "      <th>Glucose</th>\n",
       "      <th>BloodPressure</th>\n",
       "      <th>SkinThickness</th>\n",
       "      <th>Insulin</th>\n",
       "      <th>BMI</th>\n",
       "      <th>DiabetesPedigreeFunction</th>\n",
       "      <th>Age</th>\n",
       "      <th>Outcome</th>\n",
       "    </tr>\n",
       "  </thead>\n",
       "  <tbody>\n",
       "    <tr>\n",
       "      <th>0</th>\n",
       "      <td>6</td>\n",
       "      <td>148</td>\n",
       "      <td>72</td>\n",
       "      <td>35</td>\n",
       "      <td>0</td>\n",
       "      <td>33.6</td>\n",
       "      <td>0.627</td>\n",
       "      <td>50</td>\n",
       "      <td>1</td>\n",
       "    </tr>\n",
       "    <tr>\n",
       "      <th>1</th>\n",
       "      <td>1</td>\n",
       "      <td>85</td>\n",
       "      <td>66</td>\n",
       "      <td>29</td>\n",
       "      <td>0</td>\n",
       "      <td>26.6</td>\n",
       "      <td>0.351</td>\n",
       "      <td>31</td>\n",
       "      <td>0</td>\n",
       "    </tr>\n",
       "    <tr>\n",
       "      <th>2</th>\n",
       "      <td>8</td>\n",
       "      <td>183</td>\n",
       "      <td>64</td>\n",
       "      <td>0</td>\n",
       "      <td>0</td>\n",
       "      <td>23.3</td>\n",
       "      <td>0.672</td>\n",
       "      <td>32</td>\n",
       "      <td>1</td>\n",
       "    </tr>\n",
       "    <tr>\n",
       "      <th>3</th>\n",
       "      <td>1</td>\n",
       "      <td>89</td>\n",
       "      <td>66</td>\n",
       "      <td>23</td>\n",
       "      <td>94</td>\n",
       "      <td>28.1</td>\n",
       "      <td>0.167</td>\n",
       "      <td>21</td>\n",
       "      <td>0</td>\n",
       "    </tr>\n",
       "    <tr>\n",
       "      <th>4</th>\n",
       "      <td>0</td>\n",
       "      <td>137</td>\n",
       "      <td>40</td>\n",
       "      <td>35</td>\n",
       "      <td>168</td>\n",
       "      <td>43.1</td>\n",
       "      <td>2.288</td>\n",
       "      <td>33</td>\n",
       "      <td>1</td>\n",
       "    </tr>\n",
       "  </tbody>\n",
       "</table>\n",
       "</div>"
      ],
      "text/plain": [
       "   Pregnancies  Glucose  BloodPressure  SkinThickness  Insulin   BMI  \\\n",
       "0            6      148             72             35        0  33.6   \n",
       "1            1       85             66             29        0  26.6   \n",
       "2            8      183             64              0        0  23.3   \n",
       "3            1       89             66             23       94  28.1   \n",
       "4            0      137             40             35      168  43.1   \n",
       "\n",
       "   DiabetesPedigreeFunction  Age  Outcome  \n",
       "0                     0.627   50        1  \n",
       "1                     0.351   31        0  \n",
       "2                     0.672   32        1  \n",
       "3                     0.167   21        0  \n",
       "4                     2.288   33        1  "
      ]
     },
     "execution_count": 2,
     "metadata": {},
     "output_type": "execute_result"
    }
   ],
   "source": [
    "data = pd.read_csv('/kaggle/input/pima-indians-diabetes-database/diabetes.csv')  # loading the pima indians diabetes dataset\n",
    "\n",
    "print(\"Shape of the dataset: \" + str(data.shape)) # checking the shape of the dataset \n",
    "print(\"\\n \\nThe first few rows of the dataset: \") # checking the first few rows of the dataset\n",
    "data.head()"
   ]
  },
  {
   "cell_type": "code",
   "execution_count": 3,
   "id": "rocky-germany",
   "metadata": {
    "execution": {
     "iopub.execute_input": "2021-09-09T14:32:13.225361Z",
     "iopub.status.busy": "2021-09-09T14:32:13.224758Z",
     "iopub.status.idle": "2021-09-09T14:32:13.227656Z",
     "shell.execute_reply": "2021-09-09T14:32:13.228455Z",
     "shell.execute_reply.started": "2021-09-06T15:18:36.696559Z"
    },
    "papermill": {
     "duration": 0.024082,
     "end_time": "2021-09-09T14:32:13.228788",
     "exception": false,
     "start_time": "2021-09-09T14:32:13.204706",
     "status": "completed"
    },
    "tags": []
   },
   "outputs": [
    {
     "name": "stdout",
     "output_type": "stream",
     "text": [
      "There  is no missing values in the dataset\n"
     ]
    }
   ],
   "source": [
    "n_missing = data.isnull().sum().sum()       # checking if there is any missing value\n",
    "if n_missing == 0: \n",
    "    print(\"There  is no missing values in the dataset\")\n",
    "else:\n",
    "    print(\"Oops! Total \" + str(n_missing) + \" values in the dataset\")\n"
   ]
  },
  {
   "cell_type": "markdown",
   "id": "certain-combining",
   "metadata": {
    "papermill": {
     "duration": 0.014215,
     "end_time": "2021-09-09T14:32:13.259340",
     "exception": false,
     "start_time": "2021-09-09T14:32:13.245125",
     "status": "completed"
    },
    "tags": []
   },
   "source": [
    "# Data Analysis"
   ]
  },
  {
   "cell_type": "code",
   "execution_count": 4,
   "id": "planned-gravity",
   "metadata": {
    "execution": {
     "iopub.execute_input": "2021-09-09T14:32:13.291922Z",
     "iopub.status.busy": "2021-09-09T14:32:13.291315Z",
     "iopub.status.idle": "2021-09-09T14:32:13.327108Z",
     "shell.execute_reply": "2021-09-09T14:32:13.326599Z",
     "shell.execute_reply.started": "2021-09-06T16:01:04.348342Z"
    },
    "papermill": {
     "duration": 0.053006,
     "end_time": "2021-09-09T14:32:13.327259",
     "exception": false,
     "start_time": "2021-09-09T14:32:13.274253",
     "status": "completed"
    },
    "tags": []
   },
   "outputs": [
    {
     "data": {
      "text/html": [
       "<div>\n",
       "<style scoped>\n",
       "    .dataframe tbody tr th:only-of-type {\n",
       "        vertical-align: middle;\n",
       "    }\n",
       "\n",
       "    .dataframe tbody tr th {\n",
       "        vertical-align: top;\n",
       "    }\n",
       "\n",
       "    .dataframe thead th {\n",
       "        text-align: right;\n",
       "    }\n",
       "</style>\n",
       "<table border=\"1\" class=\"dataframe\">\n",
       "  <thead>\n",
       "    <tr style=\"text-align: right;\">\n",
       "      <th></th>\n",
       "      <th>Pregnancies</th>\n",
       "      <th>Glucose</th>\n",
       "      <th>BloodPressure</th>\n",
       "      <th>SkinThickness</th>\n",
       "      <th>Insulin</th>\n",
       "      <th>BMI</th>\n",
       "      <th>DiabetesPedigreeFunction</th>\n",
       "      <th>Age</th>\n",
       "      <th>Outcome</th>\n",
       "    </tr>\n",
       "  </thead>\n",
       "  <tbody>\n",
       "    <tr>\n",
       "      <th>0</th>\n",
       "      <td>0.352941</td>\n",
       "      <td>0.743719</td>\n",
       "      <td>0.590164</td>\n",
       "      <td>0.353535</td>\n",
       "      <td>0.000000</td>\n",
       "      <td>0.500745</td>\n",
       "      <td>0.259091</td>\n",
       "      <td>0.617284</td>\n",
       "      <td>1</td>\n",
       "    </tr>\n",
       "    <tr>\n",
       "      <th>1</th>\n",
       "      <td>0.058824</td>\n",
       "      <td>0.427136</td>\n",
       "      <td>0.540984</td>\n",
       "      <td>0.292929</td>\n",
       "      <td>0.000000</td>\n",
       "      <td>0.396423</td>\n",
       "      <td>0.145041</td>\n",
       "      <td>0.382716</td>\n",
       "      <td>0</td>\n",
       "    </tr>\n",
       "    <tr>\n",
       "      <th>2</th>\n",
       "      <td>0.470588</td>\n",
       "      <td>0.919598</td>\n",
       "      <td>0.524590</td>\n",
       "      <td>0.000000</td>\n",
       "      <td>0.000000</td>\n",
       "      <td>0.347243</td>\n",
       "      <td>0.277686</td>\n",
       "      <td>0.395062</td>\n",
       "      <td>1</td>\n",
       "    </tr>\n",
       "    <tr>\n",
       "      <th>3</th>\n",
       "      <td>0.058824</td>\n",
       "      <td>0.447236</td>\n",
       "      <td>0.540984</td>\n",
       "      <td>0.232323</td>\n",
       "      <td>0.111111</td>\n",
       "      <td>0.418778</td>\n",
       "      <td>0.069008</td>\n",
       "      <td>0.259259</td>\n",
       "      <td>0</td>\n",
       "    </tr>\n",
       "    <tr>\n",
       "      <th>4</th>\n",
       "      <td>0.000000</td>\n",
       "      <td>0.688442</td>\n",
       "      <td>0.327869</td>\n",
       "      <td>0.353535</td>\n",
       "      <td>0.198582</td>\n",
       "      <td>0.642325</td>\n",
       "      <td>0.945455</td>\n",
       "      <td>0.407407</td>\n",
       "      <td>1</td>\n",
       "    </tr>\n",
       "  </tbody>\n",
       "</table>\n",
       "</div>"
      ],
      "text/plain": [
       "   Pregnancies   Glucose  BloodPressure  SkinThickness   Insulin       BMI  \\\n",
       "0     0.352941  0.743719       0.590164       0.353535  0.000000  0.500745   \n",
       "1     0.058824  0.427136       0.540984       0.292929  0.000000  0.396423   \n",
       "2     0.470588  0.919598       0.524590       0.000000  0.000000  0.347243   \n",
       "3     0.058824  0.447236       0.540984       0.232323  0.111111  0.418778   \n",
       "4     0.000000  0.688442       0.327869       0.353535  0.198582  0.642325   \n",
       "\n",
       "   DiabetesPedigreeFunction       Age  Outcome  \n",
       "0                  0.259091  0.617284        1  \n",
       "1                  0.145041  0.382716        0  \n",
       "2                  0.277686  0.395062        1  \n",
       "3                  0.069008  0.259259        0  \n",
       "4                  0.945455  0.407407        1  "
      ]
     },
     "execution_count": 4,
     "metadata": {},
     "output_type": "execute_result"
    }
   ],
   "source": [
    "dataset = data.copy() # creating a copy of the dataset, so any further change won't effect the main dataset\n",
    "\n",
    "for col in dataset.columns[0:-1]: # now, we are normalizing the dataset along columns\n",
    "    dataset[col] = dataset[col]/abs(dataset[col].max())\n",
    "dataset.head()"
   ]
  },
  {
   "cell_type": "code",
   "execution_count": 5,
   "id": "unauthorized-crown",
   "metadata": {
    "execution": {
     "iopub.execute_input": "2021-09-09T14:32:13.367041Z",
     "iopub.status.busy": "2021-09-09T14:32:13.363875Z",
     "iopub.status.idle": "2021-09-09T14:32:13.370910Z",
     "shell.execute_reply": "2021-09-09T14:32:13.371897Z",
     "shell.execute_reply.started": "2021-09-06T16:01:14.807884Z"
    },
    "papermill": {
     "duration": 0.029655,
     "end_time": "2021-09-09T14:32:13.372195",
     "exception": false,
     "start_time": "2021-09-09T14:32:13.342540",
     "status": "completed"
    },
    "tags": []
   },
   "outputs": [],
   "source": [
    "train, test = train_test_split(dataset, test_size=0.3, random_state=42, shuffle=True) # splitting into train and test set"
   ]
  },
  {
   "cell_type": "markdown",
   "id": "mighty-moscow",
   "metadata": {
    "papermill": {
     "duration": 0.019777,
     "end_time": "2021-09-09T14:32:13.418605",
     "exception": false,
     "start_time": "2021-09-09T14:32:13.398828",
     "status": "completed"
    },
    "tags": []
   },
   "source": [
    "# Defining Important Functions"
   ]
  },
  {
   "cell_type": "code",
   "execution_count": 6,
   "id": "black-istanbul",
   "metadata": {
    "execution": {
     "iopub.execute_input": "2021-09-09T14:32:13.455530Z",
     "iopub.status.busy": "2021-09-09T14:32:13.454780Z",
     "iopub.status.idle": "2021-09-09T14:32:13.462362Z",
     "shell.execute_reply": "2021-09-09T14:32:13.461895Z",
     "shell.execute_reply.started": "2021-09-06T16:01:17.547479Z"
    },
    "papermill": {
     "duration": 0.026086,
     "end_time": "2021-09-09T14:32:13.462566",
     "exception": false,
     "start_time": "2021-09-09T14:32:13.436480",
     "status": "completed"
    },
    "tags": []
   },
   "outputs": [],
   "source": [
    "# defining \"makeinput\" function which will extract the features(x) and outcome(y) as np arrays from the dataframe\n",
    "def makeinput(df_in):\n",
    "    df = df_in.copy()\n",
    "    x = df.iloc[:, :-1].values\n",
    "    y = df.iloc[:, -1]. values\n",
    "    y = y.reshape(y.shape[0], 1)      # reshape for avoiding broadcasting\n",
    "    x0 = np.ones(x.shape[0]).reshape(x.shape[0], 1)\n",
    "    x = np.append(x0, x, axis=1)\n",
    "    return x, y"
   ]
  },
  {
   "attachments": {
    "9c42c7d9-d313-4884-8c9c-ef8af47d4710.png": {
     "image/png": "[encoded data removed]"
    }
   },
   "cell_type": "markdown",
   "id": "scenic-webcam",
   "metadata": {
    "papermill": {
     "duration": 0.017076,
     "end_time": "2021-09-09T14:32:13.499984",
     "exception": false,
     "start_time": "2021-09-09T14:32:13.482908",
     "status": "completed"
    },
    "tags": []
   },
   "source": [
    "![image.png](attachment:9c42c7d9-d313-4884-8c9c-ef8af47d4710.png)"
   ]
  },
  {
   "cell_type": "code",
   "execution_count": 7,
   "id": "usual-university",
   "metadata": {
    "execution": {
     "iopub.execute_input": "2021-09-09T14:32:13.551039Z",
     "iopub.status.busy": "2021-09-09T14:32:13.550288Z",
     "iopub.status.idle": "2021-09-09T14:32:13.684229Z",
     "shell.execute_reply": "2021-09-09T14:32:13.683762Z",
     "shell.execute_reply.started": "2021-09-06T16:01:18.675431Z"
    },
    "papermill": {
     "duration": 0.168913,
     "end_time": "2021-09-09T14:32:13.684367",
     "exception": false,
     "start_time": "2021-09-09T14:32:13.515454",
     "status": "completed"
    },
    "tags": []
   },
   "outputs": [
    {
     "data": {
      "image/png": "[encoded data removed]",
      "text/plain": [
       "<Figure size 432x288 with 1 Axes>"
      ]
     },
     "metadata": {
      "needs_background": "light"
     },
     "output_type": "display_data"
    }
   ],
   "source": [
    "# defining \"sigmoid\" function\n",
    "def sigmoid(x):\n",
    "    return 1/(1 + np.exp(-x))\n",
    "\n",
    "# checking the output of \"sigmoid\" function\n",
    "a = np.linspace(-5, 5, 200)\n",
    "b = sigmoid(a)\n",
    "plt.plot(a, b)\n",
    "plt.xlabel(\"x\")\n",
    "plt.ylabel(\"Sigmoid Function\")\n",
    "plt.show()    "
   ]
  },
  {
   "cell_type": "code",
   "execution_count": 8,
   "id": "academic-enough",
   "metadata": {
    "execution": {
     "iopub.execute_input": "2021-09-09T14:32:13.721339Z",
     "iopub.status.busy": "2021-09-09T14:32:13.720455Z",
     "iopub.status.idle": "2021-09-09T14:32:13.723691Z",
     "shell.execute_reply": "2021-09-09T14:32:13.723034Z",
     "shell.execute_reply.started": "2021-09-06T16:01:19.826619Z"
    },
    "papermill": {
     "duration": 0.023682,
     "end_time": "2021-09-09T14:32:13.723825",
     "exception": false,
     "start_time": "2021-09-09T14:32:13.700143",
     "status": "completed"
    },
    "tags": []
   },
   "outputs": [],
   "source": [
    "# defining \"hyp\" function and it will return the hypothesis \n",
    "def hyp(theta, x):\n",
    "    return np.matmul(x, theta)"
   ]
  },
  {
   "attachments": {
    "1f4c9cf2-effe-4d0c-9020-70c8f93f6f6a.png": {
     "image/png": "[encoded data removed]"
    }
   },
   "cell_type": "markdown",
   "id": "ambient-kidney",
   "metadata": {
    "papermill": {
     "duration": 0.01526,
     "end_time": "2021-09-09T14:32:13.754848",
     "exception": false,
     "start_time": "2021-09-09T14:32:13.739588",
     "status": "completed"
    },
    "tags": []
   },
   "source": [
    "Here is the equations for calculating loss:\n",
    "\n",
    "![image.png](attachment:1f4c9cf2-effe-4d0c-9020-70c8f93f6f6a.png)"
   ]
  },
  {
   "cell_type": "code",
   "execution_count": 9,
   "id": "black-abuse",
   "metadata": {
    "execution": {
     "iopub.execute_input": "2021-09-09T14:32:13.791968Z",
     "iopub.status.busy": "2021-09-09T14:32:13.791320Z",
     "iopub.status.idle": "2021-09-09T14:32:13.794049Z",
     "shell.execute_reply": "2021-09-09T14:32:13.794493Z",
     "shell.execute_reply.started": "2021-09-06T16:01:20.097776Z"
    },
    "papermill": {
     "duration": 0.023923,
     "end_time": "2021-09-09T14:32:13.794685",
     "exception": false,
     "start_time": "2021-09-09T14:32:13.770762",
     "status": "completed"
    },
    "tags": []
   },
   "outputs": [],
   "source": [
    "# defining \"cost\" function, it will return the loss \n",
    "def cost(theta, x, y):\n",
    "    m = x.shape[0]\n",
    "    h = hyp(theta, x)\n",
    "    J = -1/(m) * np.sum(y*np.log(sigmoid(h)) + (1-y)*np.log(1-sigmoid(h)))\n",
    "    return J"
   ]
  },
  {
   "attachments": {
    "a93bdb90-8f0f-4408-9a21-71e633f054bb.png": {
     "image/png": "[encoded data removed]"
    },
    "c33a191e-6572-4e4b-a160-73fe85e7611d.png": {
     "image/png": "[encoded data removed]"
    }
   },
   "cell_type": "markdown",
   "id": "controlled-kernel",
   "metadata": {
    "papermill": {
     "duration": 0.01579,
     "end_time": "2021-09-09T14:32:13.826784",
     "exception": false,
     "start_time": "2021-09-09T14:32:13.810994",
     "status": "completed"
    },
    "tags": []
   },
   "source": [
    "![image.png](attachment:c33a191e-6572-4e4b-a160-73fe85e7611d.png)![image.png](attachment:a93bdb90-8f0f-4408-9a21-71e633f054bb.png)"
   ]
  },
  {
   "cell_type": "code",
   "execution_count": 10,
   "id": "controlled-tolerance",
   "metadata": {
    "execution": {
     "iopub.execute_input": "2021-09-09T14:32:13.865772Z",
     "iopub.status.busy": "2021-09-09T14:32:13.864857Z",
     "iopub.status.idle": "2021-09-09T14:32:13.871772Z",
     "shell.execute_reply": "2021-09-09T14:32:13.872259Z",
     "shell.execute_reply.started": "2021-09-06T16:02:09.967274Z"
    },
    "papermill": {
     "duration": 0.029434,
     "end_time": "2021-09-09T14:32:13.872444",
     "exception": false,
     "start_time": "2021-09-09T14:32:13.843010",
     "status": "completed"
    },
    "tags": []
   },
   "outputs": [],
   "source": [
    "# defining the optimizer\n",
    "\n",
    "def optim(theta, x, y, alpha, epochs):\n",
    "    m = x.shape[0]\n",
    "    j = np.zeros(epochs)\n",
    "    for i in range(epochs):\n",
    "        h = hyp(theta,x)\n",
    "        gd = (1/m)*np.matmul(np.transpose(x), (sigmoid(h)-y))\n",
    "        theta = theta - alpha*gd \n",
    "        j[i] = cost(theta, x, y)\n",
    "    return theta, j"
   ]
  },
  {
   "cell_type": "code",
   "execution_count": 11,
   "id": "approved-proposition",
   "metadata": {
    "execution": {
     "iopub.execute_input": "2021-09-09T14:32:13.913728Z",
     "iopub.status.busy": "2021-09-09T14:32:13.912818Z",
     "iopub.status.idle": "2021-09-09T14:32:13.916848Z",
     "shell.execute_reply": "2021-09-09T14:32:13.917369Z",
     "shell.execute_reply.started": "2021-09-06T16:13:23.328168Z"
    },
    "papermill": {
     "duration": 0.027249,
     "end_time": "2021-09-09T14:32:13.917564",
     "exception": false,
     "start_time": "2021-09-09T14:32:13.890315",
     "status": "completed"
    },
    "tags": []
   },
   "outputs": [],
   "source": [
    "# \"pred\" function will predict the hyopothesis for test set\n",
    "def pred(theta, x): \n",
    "    h = hyp(theta, x)\n",
    "    return sigmoid(h)"
   ]
  },
  {
   "cell_type": "markdown",
   "id": "premier-hazard",
   "metadata": {
    "papermill": {
     "duration": 0.017567,
     "end_time": "2021-09-09T14:32:13.952994",
     "exception": false,
     "start_time": "2021-09-09T14:32:13.935427",
     "status": "completed"
    },
    "tags": []
   },
   "source": [
    "# Training"
   ]
  },
  {
   "cell_type": "code",
   "execution_count": 12,
   "id": "nuclear-report",
   "metadata": {
    "execution": {
     "iopub.execute_input": "2021-09-09T14:32:13.988087Z",
     "iopub.status.busy": "2021-09-09T14:32:13.987156Z",
     "iopub.status.idle": "2021-09-09T14:32:19.471111Z",
     "shell.execute_reply": "2021-09-09T14:32:19.471579Z",
     "shell.execute_reply.started": "2021-09-06T16:17:25.847345Z"
    },
    "papermill": {
     "duration": 5.502983,
     "end_time": "2021-09-09T14:32:19.471752",
     "exception": false,
     "start_time": "2021-09-09T14:32:13.968769",
     "status": "completed"
    },
    "tags": []
   },
   "outputs": [
    {
     "name": "stdout",
     "output_type": "stream",
     "text": [
      "Loss without optimization is 0.6931471805599453\n",
      "Loss after optimization is 0.4828592404392437\n"
     ]
    },
    {
     "data": {
      "text/plain": [
       "Text(0, 0.5, 'Loss')"
      ]
     },
     "execution_count": 12,
     "metadata": {},
     "output_type": "execute_result"
    },
    {
     "data": {
      "image/png": "[encoded data removed]",
      "text/plain": [
       "<Figure size 432x288 with 1 Axes>"
      ]
     },
     "metadata": {
      "needs_background": "light"
     },
     "output_type": "display_data"
    }
   ],
   "source": [
    "# Initialization of coefficient\n",
    "x_train, y_train = makeinput(train)\n",
    "m, n = x_train.shape\n",
    "theta_init = np.zeros((n, 1))  # initializing theta\n",
    "\n",
    "# Checking the loss without optimization\n",
    "loss = cost(theta_init, x_train, y_train)\n",
    "print(\"Loss without optimization is \" + str(loss))\n",
    "\n",
    "# Optimization with GD\n",
    "\n",
    "alpha = 0.01        # learning rate\n",
    "epochs = 50000       # no of iterations to run the loop\n",
    "theta, j = optim(theta_init, x_train, y_train, alpha, epochs)\n",
    "loss_opt = cost(theta, x_train, y_train)\n",
    "\n",
    "print(\"Loss after optimization is \" + str(loss_opt))\n",
    "iteration = range(epochs)\n",
    "plt.plot(iteration, j)\n",
    "plt.xlabel('epochs')\n",
    "plt.ylabel('Loss')"
   ]
  },
  {
   "cell_type": "markdown",
   "id": "latin-turtle",
   "metadata": {
    "papermill": {
     "duration": 0.017307,
     "end_time": "2021-09-09T14:32:19.507149",
     "exception": false,
     "start_time": "2021-09-09T14:32:19.489842",
     "status": "completed"
    },
    "tags": []
   },
   "source": [
    "# Evaluation"
   ]
  },
  {
   "cell_type": "code",
   "execution_count": 13,
   "id": "documentary-reservation",
   "metadata": {
    "execution": {
     "iopub.execute_input": "2021-09-09T14:32:19.544803Z",
     "iopub.status.busy": "2021-09-09T14:32:19.544097Z",
     "iopub.status.idle": "2021-09-09T14:32:19.551463Z",
     "shell.execute_reply": "2021-09-09T14:32:19.551011Z",
     "shell.execute_reply.started": "2021-09-06T16:31:38.487404Z"
    },
    "papermill": {
     "duration": 0.027083,
     "end_time": "2021-09-09T14:32:19.551622",
     "exception": false,
     "start_time": "2021-09-09T14:32:19.524539",
     "status": "completed"
    },
    "tags": []
   },
   "outputs": [
    {
     "name": "stdout",
     "output_type": "stream",
     "text": [
      "0.7748917748917749\n"
     ]
    }
   ],
   "source": [
    "x_test, y_test = makeinput(test)\n",
    "predictions = np.round(pred(theta, x_test))\n",
    "\n",
    "print(accuracy_score(y_test, predictions))"
   ]
  },
  {
   "cell_type": "markdown",
   "id": "cardiovascular-dubai",
   "metadata": {
    "papermill": {
     "duration": 0.017121,
     "end_time": "2021-09-09T14:32:19.586529",
     "exception": false,
     "start_time": "2021-09-09T14:32:19.569408",
     "status": "completed"
    },
    "tags": []
   },
   "source": [
    "**Please give your opinion in the comment section**"
   ]
  }
 ],
 "metadata": {
  "kernelspec": {
   "display_name": "Python 3",
   "language": "python",
   "name": "python3"
  },
  "language_info": {
   "codemirror_mode": {
    "name": "ipython",
    "version": 3
   },
   "file_extension": ".py",
   "mimetype": "text/x-python",
   "name": "python",
   "nbconvert_exporter": "python",
   "pygments_lexer": "ipython3",
   "version": "3.7.10"
  },
  "papermill": {
   "default_parameters": {},
   "duration": 15.494635,
   "end_time": "2021-09-09T14:32:20.313271",
   "environment_variables": {},
   "exception": null,
   "input_path": "__notebook__.ipynb",
   "output_path": "__notebook__.ipynb",
   "parameters": {},
   "start_time": "2021-09-09T14:32:04.818636",
   "version": "2.3.3"
  }
 },
 "nbformat": 4,
 "nbformat_minor": 5
}
